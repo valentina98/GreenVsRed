{
 "cells": [
  {
   "cell_type": "code",
   "execution_count": 1,
   "metadata": {},
   "outputs": [],
   "source": [
    "import numpy as np\n",
    "import copy"
   ]
  },
  {
   "cell_type": "markdown",
   "metadata": {},
   "source": [
    "Entering x and y."
   ]
  },
  {
   "cell_type": "code",
   "execution_count": 2,
   "metadata": {},
   "outputs": [
    {
     "name": "stdout",
     "output_type": "stream",
     "text": [
      "Eter numbers of rows and columns x, y: 4\n",
      "X and y should be whole numbers 0 < x <= y < 1000 and should be separated by ','.\n",
      "Eter numbers of rows and columns x, y: 4,4\n",
      "x is 4 and y is 4.\n"
     ]
    }
   ],
   "source": [
    "while True:\n",
    "    try:\n",
    "        my_input = input(\"Eter numbers of rows and columns x, y: \")\n",
    "        \n",
    "        x, y = [int(i) for i in my_input.split(\",\")]\n",
    "        \n",
    "        if(x > 0 and x <= y and isinstance(x, int) == True and \n",
    "           y > 0 and y < 1000  and isinstance(y, int) == True):\n",
    "            break\n",
    "        else:\n",
    "            raise ValueError()\n",
    "            \n",
    "    except ValueError:\n",
    "        print('X and y should be whole numbers 0 < x <= y < 1000 and should be separated by \\',\\'.')\n",
    "\n",
    "print('x is ' + str(x) + ' and y is ' + str(y) + '.')"
   ]
  },
  {
   "cell_type": "markdown",
   "metadata": {},
   "source": [
    "Creating a class Cell with a method for calculating all neighbour indexes."
   ]
  },
  {
   "cell_type": "code",
   "execution_count": 3,
   "metadata": {},
   "outputs": [],
   "source": [
    "class Cell:\n",
    "    def __init__(self, colnum, rownum):\n",
    "        # colnum and rownum define the position of the cell\n",
    "        self.colnum = int(colnum)\n",
    "        self.rownum = int(rownum)\n",
    "        \n",
    "    def print_info(self):\n",
    "        print(\"colnum: \" + str(self.colnum) + \", rownum: \" + str(self.rownum))\n",
    "    \n",
    "    # returns surrounding cells indexes clockwise \n",
    "    def get_indexes_around(self):\n",
    "        return [ \n",
    "            [self.colnum-1, self.rownum+1],\n",
    "            [self.colnum, self.rownum+1],\n",
    "            [self.colnum+1, self.rownum+1],\n",
    "            [self.colnum+1, self.rownum],\n",
    "            [self.colnum+1, self.rownum-1],\n",
    "            [self.colnum, self.rownum-1],\n",
    "            [self.colnum-1, self.rownum-1],\n",
    "            [self.colnum-1, self.rownum]\n",
    "        ]"
   ]
  },
  {
   "cell_type": "markdown",
   "metadata": {},
   "source": [
    "Creating a class Grid. All objects of this class hold the current state of the grid, the number of it's generation and a heatmap grid with all green occurrences up to the current generation. "
   ]
  },
  {
   "cell_type": "code",
   "execution_count": 4,
   "metadata": {},
   "outputs": [],
   "source": [
    "class Grid:\n",
    "    RED = 0\n",
    "    GREEN = 1\n",
    "    CELLS_AROUND = 8\n",
    "    \n",
    "    def __init__(self, x, y):\n",
    "        self.x = int(x) # width\n",
    "        self.y = int(y) # height\n",
    "        self.grid = self.build_grid()\n",
    "        self.generation = 0\n",
    "        # a grid holding the sums of green occurrences\n",
    "        self.grid_green_occurrences = copy.deepcopy(self.grid) \n",
    "        \n",
    "    def build_grid(self):\n",
    "        grid = np.empty((self.y,self.x))\n",
    "        \n",
    "        while True:\n",
    "            try:\n",
    "                for i in range(self.y):\n",
    "                    grid[i] = [char for char in input(\"Enter red and green cells for row \" + str(i) + \": \")]\n",
    "                    \n",
    "                    if (len(grid[i]) != self.x):\n",
    "                        raise ValueError\n",
    "                    for c in grid[i]:\n",
    "                        if c not in(0,1):\n",
    "                            raise ValueError\n",
    "\n",
    "                grid = grid.astype(int)\n",
    "                \n",
    "                break\n",
    "        \n",
    "            except ValueError:\n",
    "                print(\"You should enter strings with length \" + str(self.x) + \" containing only 0 and 1.\")\n",
    "\n",
    "        return grid\n",
    "        \n",
    "    def print_info(self, cell = None):\n",
    "        print(\"x: \" + str(self.x) + \", y: \" + str(self.y) + \", generation: \" + str(self.generation))\n",
    "        print(self.grid)\n",
    "        if cell is not None:\n",
    "            print(\"[col \" + str(cell.colnum) + \", row \" + str(cell.rownum) + \"] is surrounded by \"+ str(self.get_num_surrounded_by(cell)) + ' green cells.')\n",
    "            print(\"[col \" + str(cell.colnum) + \", row \" + str(cell.rownum) + \"] has \" + str(self.get_num_green_occurrences(cell)) + \" green occurrences up to generation \" + str(self.generation) + \".\" )\n",
    "            print()\n",
    "            \n",
    "    # returns the number of generations the cell was green\n",
    "    def get_num_green_occurrences(self, cell):\n",
    "        cell_green_occurrences = self.grid_green_occurrences[cell.rownum,cell.colnum]\n",
    "        return cell_green_occurrences\n",
    "    \n",
    "    # returns the number of surrounding cells in the specified çolour\n",
    "    def get_num_surrounded_by(self, cell, colour = GREEN):\n",
    "        \n",
    "        valid_indexes_around = list(filter(lambda a: a[0] >= 0 and a[1] >= 0 \n",
    "                                           and a[0] < self.x and a[1] < self.y, \n",
    "                                           cell.get_indexes_around()))\n",
    "\n",
    "        surrounding_cells = [self.grid[j, i] for i, j in valid_indexes_around] # i is rownum, j is colnum\n",
    "        \n",
    "        # check if we search for red or green surrounding sells\n",
    "        if colour == self.GREEN:\n",
    "            return sum(surrounding_cells)\n",
    "        else:\n",
    "            return self.CELLS_AROUND - sum(surrounding_cells)\n",
    "    \n",
    "    # transforms the grid to a next generation grid applying the rules and updating the green occurrences heatmap\n",
    "    def go_to_next_generation(self):\n",
    "        self.generation += 1\n",
    "        temp_grid = copy.deepcopy(self.grid)\n",
    "\n",
    "        for colnum in range(self.x):\n",
    "            for rownum in range(self.y):\n",
    "                \n",
    "                cell = Cell(colnum, rownum)\n",
    "                \n",
    "                br_green_around = self.get_num_surrounded_by(cell)\n",
    "                                \n",
    "                # rule 1, 2\n",
    "                if self.grid[rownum][colnum] == self.RED and br_green_around in(3, 6):\n",
    "                    temp_grid[rownum][colnum] = self.GREEN \n",
    "\n",
    "                # rule 3, 4\n",
    "                if self.grid[rownum][colnum] == self.GREEN and br_green_around in(0, 1, 4, 5, 7, 8):\n",
    "                    temp_grid[rownum][colnum] = self.RED\n",
    "\n",
    "        self.grid = temp_grid\n",
    "        \n",
    "        self.grid_green_occurrences += self.grid\n",
    "    \n",
    "    def run_generations_loop(self, n):\n",
    "        for i in range(n):\n",
    "            self.go_to_next_generation()\n",
    "        \n",
    "# note that because of the task I create cells with parameters (colnum, rownum)\n",
    "# but the position of the cell in the grid is specified with [rownum, colnum]"
   ]
  },
  {
   "cell_type": "markdown",
   "metadata": {},
   "source": [
    "Creating an object g1 from class Grid. "
   ]
  },
  {
   "cell_type": "code",
   "execution_count": 5,
   "metadata": {},
   "outputs": [
    {
     "name": "stdout",
     "output_type": "stream",
     "text": [
      "Enter red and green cells for row 0: 1002\n",
      "You should enter strings with length 4 containing only 0 and 1.\n",
      "Enter red and green cells for row 0: 1001\n",
      "Enter red and green cells for row 1: 1002\n",
      "You should enter strings with length 4 containing only 0 and 1.\n",
      "Enter red and green cells for row 0: 1001\n",
      "Enter red and green cells for row 1: 1111\n",
      "Enter red and green cells for row 2: 0100\n",
      "Enter red and green cells for row 3: 1010\n"
     ]
    }
   ],
   "source": [
    "g1 = Grid(x, y)"
   ]
  },
  {
   "cell_type": "markdown",
   "metadata": {},
   "source": [
    "Entering x1, y1 and specifying the number of generations."
   ]
  },
  {
   "cell_type": "code",
   "execution_count": 6,
   "metadata": {},
   "outputs": [
    {
     "name": "stdout",
     "output_type": "stream",
     "text": [
      "Enter the colnum, rownum and generation x1, y1, n: 2,2,15\n"
     ]
    }
   ],
   "source": [
    "while True:\n",
    "    try: \n",
    "        my_input = input(\"Enter the colnum, rownum and generation x1, y1, n: \")\n",
    "        \n",
    "        x1, y1, n =  [int(i) for i in my_input.split(\",\")]\n",
    "        \n",
    "        if(x1 >= 0 and x1 < x and isinstance(x1, int) == True and\n",
    "           y1 >= 0 and y1 < y and isinstance(y1, int) == True and\n",
    "           n > 0 and isinstance(n, int) == True):\n",
    "            break\n",
    "        else:\n",
    "            raise ValueError\n",
    "            \n",
    "    except ValueError:\n",
    "        print(\"X1, y1 and n should be whole numbers 0 < x1 < x, 0 < y1 < y, n > 0 and should be separated by \\',\\'.\")"
   ]
  },
  {
   "cell_type": "markdown",
   "metadata": {},
   "source": [
    "Printing info about g1 and the cell with coordinates x1 and y1. Then running the generations loop N times and printing the info again. "
   ]
  },
  {
   "cell_type": "code",
   "execution_count": 7,
   "metadata": {},
   "outputs": [
    {
     "name": "stdout",
     "output_type": "stream",
     "text": [
      "x: 4, y: 4, generation: 0\n",
      "[[1 0 0 1]\n",
      " [1 1 1 1]\n",
      " [0 1 0 0]\n",
      " [1 0 1 0]]\n",
      "[col 2, row 2] is surrounded by 5 green cells.\n",
      "[col 2, row 2] has 0 green occurrences up to generation 0.\n",
      "\n",
      "x: 4, y: 4, generation: 15\n",
      "[[0 0 0 0]\n",
      " [0 0 1 1]\n",
      " [0 0 1 1]\n",
      " [0 0 0 0]]\n",
      "[col 2, row 2] is surrounded by 3 green cells.\n",
      "[col 2, row 2] has 14 green occurrences up to generation 15.\n",
      "\n"
     ]
    }
   ],
   "source": [
    "my_cell = Cell(x1, y1)\n",
    "\n",
    "g1.print_info(my_cell)\n",
    "g1.run_generations_loop(n)\n",
    "g1.print_info(my_cell)"
   ]
  }
 ],
 "metadata": {
  "kernelspec": {
   "display_name": "Python 3",
   "language": "python",
   "name": "python3"
  },
  "language_info": {
   "codemirror_mode": {
    "name": "ipython",
    "version": 3
   },
   "file_extension": ".py",
   "mimetype": "text/x-python",
   "name": "python",
   "nbconvert_exporter": "python",
   "pygments_lexer": "ipython3",
   "version": "3.8.3"
  }
 },
 "nbformat": 4,
 "nbformat_minor": 4
}
